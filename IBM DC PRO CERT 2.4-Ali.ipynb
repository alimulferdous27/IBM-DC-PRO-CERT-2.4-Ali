{
 "cells": [
  {
   "cell_type": "markdown",
   "id": "c8d259d0",
   "metadata": {},
   "source": [
    "**Peer-graded Assignment:**\n",
    "\n",
    "Cell 1 (rendered as Markdown): The title should be \"My Jupyter Notebook on IBM Watson Studio\", in H1 header styling. The title does not need to be centered.\n",
    "\n",
    "Cell 2 (rendered as Markdown): Include your name, in bold characters. In the line below your name, write your current or desired occupation in regular font.\n",
    "\n",
    "Cell 3 (rendered as Markdown): In italic formatting, write one or two sentences about why you are interested in data science. For example, you can start your first sentence with \"I am interested in data science because ...\".\n",
    "\n",
    "Cell 4 (rendered as Markdown): In H3 header styling, explain in a short sentence what your code is supposed to do in Cell 5.\n",
    "\n",
    "Cell 5 (code cell): Your code, as described in Cell 4. It must be executed and must display an output. Try to keep the code simple (it can even be \"1 + 1\").\n",
    "\n",
    "Cell 6 (rendered as Markdown): Using Markdown or HTML, this cell must include at least 3 of the following: horizontal rule, bulleted list, numbered list, tables, hyperlinks, images, code/syntax highlighting, blocked quotes, strikethrough."
   ]
  },
  {
   "cell_type": "code",
   "execution_count": null,
   "id": "11fac767",
   "metadata": {},
   "outputs": [],
   "source": [
    "Soultion"
   ]
  },
  {
   "cell_type": "markdown",
   "id": "7865c054",
   "metadata": {},
   "source": [
    "# My Jupyter Notebook on IBM Watson Studio"
   ]
  },
  {
   "cell_type": "markdown",
   "id": "21bb7397",
   "metadata": {},
   "source": [
    "**Alimul Ferdous**\\\n",
    "Current Occupation: Process Safety and Utility Manager\\\n",
    "Desired Occupation: Data Scientist"
   ]
  },
  {
   "cell_type": "markdown",
   "id": "b3f9e9f2",
   "metadata": {},
   "source": [
    "_I am interested in data science because I have an interest in data generated from IoT devices, working with that data, and helping the decision-making process better._ "
   ]
  },
  {
   "cell_type": "markdown",
   "id": "11b8d770",
   "metadata": {},
   "source": [
    "### Below we are asking this SkillNetwork Lab environment to print a message “Hello, World!” for us by writing print() and putting the message inside the parentheses and enclosed in quotation marks."
   ]
  },
  {
   "cell_type": "code",
   "execution_count": 6,
   "id": "27676ae5",
   "metadata": {},
   "outputs": [
    {
     "name": "stdout",
     "output_type": "stream",
     "text": [
      "Hello, World!\n"
     ]
    }
   ],
   "source": [
    "print(\"Hello, World!\")"
   ]
  },
  {
   "cell_type": "markdown",
   "id": "5a774cb2",
   "metadata": {},
   "source": [
    "**HORIZONTAL LINE** - If you want to insert a horizontal line that acts as a separator spanning across the width of the markdown cell all you have to do is type three asterisks without spaces in a new line ***\n",
    "\n",
    "Alimul Ferdous\n",
    "***\n",
    "Current Occupation: Process Safety and Utility Manager\n",
    "- - -\n",
    "Desired Occupation: Data Scientist\n",
    "\n",
    "\n",
    "\n",
    "\n",
    "**Bulleted Lists-**If you begin your list or sublist with a +, a -, or a *, then Markdown will interpret the whole list as unordered and will use bullets regardless of the characters you type before any individual list item.\n",
    "\n",
    "* Fruit:\n",
    "    * Pears\n",
    "    0. Peaches\n",
    "    3. Plums\n",
    "    4. Apples \n",
    "        - Granny Smith \n",
    "        7. Gala\n",
    "    * Oranges\n",
    "    - Berries \n",
    "        - Strawberries \n",
    "        + Blueberries\n",
    "        * Raspberries\n",
    "    - Bananas\n",
    "9. Bread:\n",
    "    * Whole Wheat\n",
    "        * With oats on crust\n",
    "        0. Without oats on crust\n",
    "    + Rye \n",
    "    0. White\n",
    "0. Dairy:\n",
    "    * Milk\n",
    "        + Whole\n",
    "        0. Skim\n",
    "    - Cheese\n",
    "        - Wisconsin Cheddar\n",
    "        0. Pepper Jack\n",
    " \n",
    " \n",
    " \n",
    " \n",
    "**Numbered List -**  Start with 1. followed by a space, then it starts numbering for you. Start each line with some number and a period, then a space. Tab to indent to get subnumbering.\n",
    "\n",
    "- Main bullet point\n",
    "     - Sub bullet point\n",
    "     \n",
    "1. Numbered item one\n",
    "1. Numbered item two\n",
    "\n",
    "1. Numbered item three\n",
    "     1. Substep \n",
    " \n",
    " \n",
    " \n",
    " \n",
    " **Table** - a table by using vertical bars and dashes to define the cell and header borders:\n",
    " \n",
    "Header|Header|Header|Header\n",
    "-|-|-|-\n",
    "Cell|Cell|Cell|Cell\n",
    "Cell|Cell|Cell|Cell\n",
    "Cell|Cell|Cell|Cell\n",
    "Cell|Cell|Cell|Cell        \n",
    "\n",
    "\n",
    "\n",
    " **Hyperlinks -**\n",
    " \n",
    " [Data Science](https://en.wikipedia.org/wiki/Data_science)\n",
    " \n",
    " \n",
    " \n",
    " \n",
    " **Image** - Inserting an image from the internet is almost identical to inserting a link. You just also type a ! before the first set of brackets:\n",
    "\n",
    "<img src=\"https://www.python.org/static/community_logos/python-logo-master-v3-TM.png\" title=\"Python Logo\"/>\n",
    "\n",
    "\n",
    "\n",
    "\n",
    "**Code/Syntax highlighting -** \n",
    "\n",
    "```python\n",
    ">>>print('hello')\n",
    "```\n",
    "\n",
    "\n",
    "\n",
    "\n",
    "**blocked quotes -**\n",
    "\n",
    "> I am trying my best to complete this assignment. \n",
    "\n",
    "\n",
    "\n",
    "\n",
    "**Strikethrough -**\n",
    "   \n",
    "~Data Science~\n",
    "<strike>Data Science</strike>\n",
    "<del>Data Science<del>"
   ]
  },
  {
   "cell_type": "code",
   "execution_count": null,
   "id": "9528d733",
   "metadata": {},
   "outputs": [],
   "source": []
  }
 ],
 "metadata": {
  "kernelspec": {
   "display_name": "Python 3 (ipykernel)",
   "language": "python",
   "name": "python3"
  },
  "language_info": {
   "codemirror_mode": {
    "name": "ipython",
    "version": 3
   },
   "file_extension": ".py",
   "mimetype": "text/x-python",
   "name": "python",
   "nbconvert_exporter": "python",
   "pygments_lexer": "ipython3",
   "version": "3.9.7"
  }
 },
 "nbformat": 4,
 "nbformat_minor": 5
}
